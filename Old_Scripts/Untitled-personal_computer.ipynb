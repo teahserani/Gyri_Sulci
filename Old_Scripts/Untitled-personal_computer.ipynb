{
 "cells": [
  {
   "cell_type": "code",
   "execution_count": 2,
   "id": "3076271c-abc2-49a9-8af8-244db98f9f4a",
   "metadata": {},
   "outputs": [],
   "source": [
    "import nibabel as nib\n",
    "import numpy as np\n",
    "\n",
    "# Load the curvature data\n",
    "curv_file = '/Users/teahserani/Desktop/Gyri_sulci/FreeSurferOutputs/388_21yrOld/surf/lh_mean_curv.gii'\n",
    "curv_data = nib.load(curv_file).darrays[0].data  # Assumes data is in the first darray\n",
    "\n",
    "# Classify regions\n",
    "gyral_mask = curv_data < 0\n",
    "sulcal_mask = curv_data > 0\n",
    "\n",
    "# Save classified data or use for further analysis"
   ]
  },
  {
   "cell_type": "code",
   "execution_count": 3,
   "id": "0a2832f3-1184-4bca-a8c4-39bc429ec286",
   "metadata": {},
   "outputs": [
    {
     "data": {
      "text/plain": [
       "array([[ True,  True, False],\n",
       "       [ True,  True, False],\n",
       "       [ True,  True, False],\n",
       "       ...,\n",
       "       [ True, False,  True],\n",
       "       [ True, False,  True],\n",
       "       [ True, False,  True]])"
      ]
     },
     "execution_count": 3,
     "metadata": {},
     "output_type": "execute_result"
    }
   ],
   "source": [
    "gyral_mask"
   ]
  },
  {
   "cell_type": "code",
   "execution_count": 6,
   "id": "ebce7612-f810-4305-b639-5fcdb1e7aa58",
   "metadata": {},
   "outputs": [
    {
     "data": {
      "text/plain": [
       "array([-22.10052  , -91.64891  ,   4.0125246], dtype=float32)"
      ]
     },
     "execution_count": 6,
     "metadata": {},
     "output_type": "execute_result"
    }
   ],
   "source": [
    "curv_data[0]"
   ]
  },
  {
   "cell_type": "code",
   "execution_count": 5,
   "id": "e3ff3e28-5763-4dab-9710-2ac25f48608a",
   "metadata": {},
   "outputs": [
    {
     "data": {
      "text/plain": [
       "151846"
      ]
     },
     "execution_count": 5,
     "metadata": {},
     "output_type": "execute_result"
    }
   ],
   "source": [
    "len(gyral_mask)"
   ]
  },
  {
   "cell_type": "code",
   "execution_count": null,
   "id": "8bbe9adb-94ff-4b70-8f66-d2f720cc6373",
   "metadata": {},
   "outputs": [],
   "source": []
  }
 ],
 "metadata": {
  "kernelspec": {
   "display_name": "Python 3 (ipykernel)",
   "language": "python",
   "name": "python3"
  },
  "language_info": {
   "codemirror_mode": {
    "name": "ipython",
    "version": 3
   },
   "file_extension": ".py",
   "mimetype": "text/x-python",
   "name": "python",
   "nbconvert_exporter": "python",
   "pygments_lexer": "ipython3",
   "version": "3.11.9"
  }
 },
 "nbformat": 4,
 "nbformat_minor": 5
}
