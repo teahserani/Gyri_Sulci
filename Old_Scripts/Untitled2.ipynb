{
 "cells": [
  {
   "cell_type": "code",
   "execution_count": null,
   "id": "a9fa5791-1d5f-474d-b267-2492ca6b951d",
   "metadata": {},
   "outputs": [],
   "source": [
    "import surfa \n",
    "import numpy as np\n",
    "from surfa import Overlay\n",
    "import matplotlib.pyplot as plt\n",
    "from mpl_toolkits.mplot3d import Axes3D\n",
    "import matplotlib\n",
    "import cuml\n",
    "import cupy as cp  # cuML uses CuPy arrays (which are similar to NumPy but for GPU\n",
    "import torch\n",
    "\n",
    "from sklearn.cluster import DBSCAN\n",
    "import numpy as np\n"
   ]
  },
  {
   "cell_type": "code",
   "execution_count": 3,
   "id": "db3fde72-0c35-4af0-b2f0-28018cc9a6da",
   "metadata": {},
   "outputs": [
    {
     "name": "stdout",
     "output_type": "stream",
     "text": [
      "CUDA Available: True\n",
      "Number of GPUs: 1\n"
     ]
    }
   ],
   "source": [
    "\n",
    "print(\"CUDA Available:\", torch.cuda.is_available())\n",
    "print(\"Number of GPUs:\", torch.cuda.device_count())"
   ]
  },
  {
   "cell_type": "code",
   "execution_count": 4,
   "id": "88646427-1bdc-4941-98e0-d36c923343cd",
   "metadata": {},
   "outputs": [
    {
     "name": "stdout",
     "output_type": "stream",
     "text": [
      "Wed Jan  8 16:07:13 2025       \n",
      "+-----------------------------------------------------------------------------------------+\n",
      "| NVIDIA-SMI 550.54.14              Driver Version: 550.54.14      CUDA Version: 12.4     |\n",
      "|-----------------------------------------+------------------------+----------------------+\n",
      "| GPU  Name                 Persistence-M | Bus-Id          Disp.A | Volatile Uncorr. ECC |\n",
      "| Fan  Temp   Perf          Pwr:Usage/Cap |           Memory-Usage | GPU-Util  Compute M. |\n",
      "|                                         |                        |               MIG M. |\n",
      "|=========================================+========================+======================|\n",
      "|   0  NVIDIA L40                     On  |   00000000:0A:00.0 Off |                    0 |\n",
      "| N/A   30C    P8             34W /  300W |       3MiB /  46068MiB |      0%      Default |\n",
      "|                                         |                        |                  N/A |\n",
      "+-----------------------------------------+------------------------+----------------------+\n",
      "                                                                                         \n",
      "+-----------------------------------------------------------------------------------------+\n",
      "| Processes:                                                                              |\n",
      "|  GPU   GI   CI        PID   Type   Process name                              GPU Memory |\n",
      "|        ID   ID                                                               Usage      |\n",
      "|=========================================================================================|\n",
      "|  No running processes found                                                             |\n",
      "+-----------------------------------------------------------------------------------------+\n"
     ]
    }
   ],
   "source": [
    "!nvidia-smi"
   ]
  },
  {
   "cell_type": "code",
   "execution_count": null,
   "id": "b57867bb-0b0a-422e-ac6f-426ce0d82a86",
   "metadata": {},
   "outputs": [],
   "source": []
  },
  {
   "cell_type": "code",
   "execution_count": null,
   "id": "199b148a-2b70-4ed0-b4d4-7c2f6b933d0d",
   "metadata": {},
   "outputs": [],
   "source": []
  },
  {
   "cell_type": "code",
   "execution_count": null,
   "id": "d35ecdef-d54b-4784-9f21-6409445aa2f2",
   "metadata": {},
   "outputs": [],
   "source": []
  },
  {
   "cell_type": "code",
   "execution_count": 4,
   "id": "45fffb43-797a-4668-bf03-35fe9a95f8fe",
   "metadata": {},
   "outputs": [],
   "source": [
    "lh_mean = surfa.load_overlay('rh.pial.H')"
   ]
  },
  {
   "cell_type": "code",
   "execution_count": 5,
   "id": "6734333e-832b-416d-9352-35e0b0a4c338",
   "metadata": {},
   "outputs": [],
   "source": [
    "lh = surfa.load_mesh('rh.pial')"
   ]
  },
  {
   "cell_type": "code",
   "execution_count": 6,
   "id": "aa241729-72e4-4ddb-b133-71f6b8310211",
   "metadata": {},
   "outputs": [
    {
     "data": {
      "text/plain": [
       "array([False, False, False, ...,  True,  True,  True])"
      ]
     },
     "execution_count": 6,
     "metadata": {},
     "output_type": "execute_result"
    }
   ],
   "source": [
    "lh_mean.data>0"
   ]
  },
  {
   "cell_type": "code",
   "execution_count": 7,
   "id": "44da973f-269f-4572-9211-92cc18457b7a",
   "metadata": {},
   "outputs": [],
   "source": [
    "mask = lh_mean.data > 0\n",
    "\n",
    "# Apply the mask to the vertices (broadcasting)\n",
    "masked_vertices = lh.vertices * mask[:, np.newaxis]"
   ]
  },
  {
   "cell_type": "code",
   "execution_count": 8,
   "id": "05b7c267-29e9-4066-8514-01b0942b9204",
   "metadata": {},
   "outputs": [
    {
     "data": {
      "text/plain": [
       "(148696, 3)"
      ]
     },
     "execution_count": 8,
     "metadata": {},
     "output_type": "execute_result"
    }
   ],
   "source": [
    "np.shape(masked_vertices)"
   ]
  },
  {
   "cell_type": "code",
   "execution_count": null,
   "id": "08a96efd-2761-4951-ba99-9208fcb2e216",
   "metadata": {},
   "outputs": [],
   "source": [
    "type(lh.space)"
   ]
  },
  {
   "cell_type": "code",
   "execution_count": null,
   "id": "f86f31b6-9142-4789-8d88-0c68830988b7",
   "metadata": {},
   "outputs": [],
   "source": [
    "np.shape(lh.vertices)"
   ]
  },
  {
   "cell_type": "code",
   "execution_count": null,
   "id": "e7238b8f-d176-4339-afd5-99e0c4a2e757",
   "metadata": {},
   "outputs": [],
   "source": [
    "np.shape(lh_mean.data)"
   ]
  },
  {
   "cell_type": "code",
   "execution_count": null,
   "id": "4da75d0a-e6e6-419c-9b0e-e86fb0ae7677",
   "metadata": {},
   "outputs": [],
   "source": [
    "\n",
    "\n",
    "# Assume masked_vertices is your data, and you want to apply DBSCAN\n",
    "masked_vertices_gpu = cp.array(masked_vertices)\n",
    "\n",
    "# Apply DBSCAN from cuML\n",
    "db_gpu = cuml.cluster.DBSCAN(eps=0.5, min_samples=100)\n",
    "labels_gpu = db_gpu.fit_predict(masked_vertices_gpu)\n",
    "\n",
    "# Convert the labels back to NumPy (if needed)\n",
    "labels = cp.asnumpy(labels_gpu)\n",
    "\n",
    "# Output the resulting labels\n",
    "print(labels)\n"
   ]
  },
  {
   "cell_type": "code",
   "execution_count": null,
   "id": "3b9be59e-bf92-4de5-a4eb-02eb322f690e",
   "metadata": {},
   "outputs": [],
   "source": [
    "from sklearn.cluster import DBSCAN\n",
    "import numpy as np\n",
    "\n",
    "db = DBSCAN(eps=0.1, min_samples=50).fit(masked_vertices)  # Adjust `eps` and `min_samples` based on your data\n",
    "\n",
    "# Get cluster labels\n",
    "labels = db.labels_\n",
    "\n",
    "# Visualize clusters (optional)\n",
    "#import matplotlib.pyplot as plt\n",
    "#plt.scatter(masked_vertices[:, 0], masked_vertices[:, 1], c=labels)\n",
    "#plt.show()"
   ]
  },
  {
   "cell_type": "code",
   "execution_count": null,
   "id": "ede28c95-31f3-440d-a6e3-9b9a22851c33",
   "metadata": {},
   "outputs": [],
   "source": []
  }
 ],
 "metadata": {
  "kernelspec": {
   "display_name": "Python 3 (ipykernel)",
   "language": "python",
   "name": "python3"
  },
  "language_info": {
   "codemirror_mode": {
    "name": "ipython",
    "version": 3
   },
   "file_extension": ".py",
   "mimetype": "text/x-python",
   "name": "python",
   "nbconvert_exporter": "python",
   "pygments_lexer": "ipython3",
   "version": "3.12.7"
  }
 },
 "nbformat": 4,
 "nbformat_minor": 5
}
