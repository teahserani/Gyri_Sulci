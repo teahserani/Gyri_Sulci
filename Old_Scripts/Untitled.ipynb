{
 "cells": [
  {
   "cell_type": "code",
   "execution_count": 3,
   "id": "4a7898eb-bcad-4b33-adf6-45b31b7bc2ec",
   "metadata": {},
   "outputs": [],
   "source": [
    "import surfa \n",
    "import numpy as np\n",
    "from surfa import Overlay\n",
    "import matplotlib.pyplot as plt\n",
    "from mpl_toolkits.mplot3d import Axes3D"
   ]
  },
  {
   "cell_type": "code",
   "execution_count": 2,
   "id": "c2343db8-569e-438e-9978-c7898db1c749",
   "metadata": {},
   "outputs": [
    {
     "name": "stdout",
     "output_type": "stream",
     "text": [
      "\u001b[33mWARNING: Ignoring invalid distribution ~etuptools (/insomnia001/shared/apps/anaconda/2023.09/lib/python3.11/site-packages)\u001b[0m\u001b[33m\n",
      "\u001b[0m\u001b[33mWARNING: Ignoring invalid distribution ~rapt (/insomnia001/shared/apps/anaconda/2023.09/lib/python3.11/site-packages)\u001b[0m\u001b[33m\n",
      "\u001b[0m\u001b[33mWARNING: Ignoring invalid distribution ~umpy (/insomnia001/shared/apps/anaconda/2023.09/lib/python3.11/site-packages)\u001b[0m\u001b[33m\n",
      "\u001b[0m\u001b[33mWARNING: Ignoring invalid distribution ~etuptools (/insomnia001/shared/apps/anaconda/2023.09/lib/python3.11/site-packages)\u001b[0m\u001b[33m\n",
      "\u001b[0m\u001b[33mWARNING: Ignoring invalid distribution ~rapt (/insomnia001/shared/apps/anaconda/2023.09/lib/python3.11/site-packages)\u001b[0m\u001b[33m\n",
      "\u001b[0m\u001b[33mWARNING: Ignoring invalid distribution ~umpy (/insomnia001/shared/apps/anaconda/2023.09/lib/python3.11/site-packages)\u001b[0m\u001b[33m\n",
      "\u001b[0mCollecting surfa\n",
      "  Downloading surfa-0.6.1.tar.gz (574 kB)\n",
      "\u001b[2K     \u001b[90m━━━━━━━━━━━━━━━━━━━━━━━━━━━━━━━━━━━━━━\u001b[0m \u001b[32m574.6/574.6 kB\u001b[0m \u001b[31m54.5 MB/s\u001b[0m eta \u001b[36m0:00:00\u001b[0m\n",
      "\u001b[?25h  Installing build dependencies ... \u001b[?25ldone\n",
      "\u001b[?25h  Getting requirements to build wheel ... \u001b[?25ldone\n",
      "\u001b[?25h  Preparing metadata (pyproject.toml) ... \u001b[?25ldone\n",
      "\u001b[?25hRequirement already satisfied: numpy<2.0 in /insomnia001/shared/apps/anaconda/2023.09/lib/python3.11/site-packages (from surfa) (1.26.4)\n",
      "Requirement already satisfied: scipy in /insomnia001/shared/apps/anaconda/2023.09/lib/python3.11/site-packages (from surfa) (1.11.1)\n",
      "Requirement already satisfied: nibabel>=2.1 in /insomnia001/shared/apps/anaconda/2023.09/lib/python3.11/site-packages (from surfa) (5.2.0)\n",
      "Requirement already satisfied: Pillow in /insomnia001/shared/apps/anaconda/2023.09/lib/python3.11/site-packages (from surfa) (9.4.0)\n",
      "Requirement already satisfied: xxhash in /insomnia001/shared/apps/anaconda/2023.09/lib/python3.11/site-packages (from surfa) (2.0.2)\n",
      "Requirement already satisfied: packaging>=17 in /insomnia001/shared/apps/anaconda/2023.09/lib/python3.11/site-packages (from nibabel>=2.1->surfa) (24.1)\n",
      "Building wheels for collected packages: surfa\n",
      "  Building wheel for surfa (pyproject.toml) ... \u001b[?25ldone\n",
      "\u001b[?25h  Created wheel for surfa: filename=surfa-0.6.1-cp311-cp311-linux_x86_64.whl size=429909 sha256=81321aea5dd38d1744efcada67718d6b7bcfdcc007ac428f265c181638300165\n",
      "  Stored in directory: /insomnia001/home/ts3641/.cache/pip/wheels/fc/36/17/cd8c2274a4883eecb1b77c3597a5aa6af55dc1561c790c7b8f\n",
      "Successfully built surfa\n",
      "\u001b[33mWARNING: Ignoring invalid distribution ~etuptools (/insomnia001/shared/apps/anaconda/2023.09/lib/python3.11/site-packages)\u001b[0m\u001b[33m\n",
      "\u001b[0m\u001b[33mWARNING: Ignoring invalid distribution ~rapt (/insomnia001/shared/apps/anaconda/2023.09/lib/python3.11/site-packages)\u001b[0m\u001b[33m\n",
      "\u001b[0m\u001b[33mWARNING: Ignoring invalid distribution ~umpy (/insomnia001/shared/apps/anaconda/2023.09/lib/python3.11/site-packages)\u001b[0m\u001b[33m\n",
      "\u001b[0mInstalling collected packages: surfa\n",
      "\u001b[33mWARNING: Ignoring invalid distribution ~etuptools (/insomnia001/shared/apps/anaconda/2023.09/lib/python3.11/site-packages)\u001b[0m\u001b[33m\n",
      "\u001b[0m\u001b[33mWARNING: Ignoring invalid distribution ~rapt (/insomnia001/shared/apps/anaconda/2023.09/lib/python3.11/site-packages)\u001b[0m\u001b[33m\n",
      "\u001b[0m\u001b[33mWARNING: Ignoring invalid distribution ~umpy (/insomnia001/shared/apps/anaconda/2023.09/lib/python3.11/site-packages)\u001b[0m\u001b[33m\n",
      "\u001b[0mSuccessfully installed surfa-0.6.1\n",
      "\u001b[33mWARNING: Ignoring invalid distribution ~etuptools (/insomnia001/shared/apps/anaconda/2023.09/lib/python3.11/site-packages)\u001b[0m\u001b[33m\n",
      "\u001b[0m\u001b[33mWARNING: Ignoring invalid distribution ~rapt (/insomnia001/shared/apps/anaconda/2023.09/lib/python3.11/site-packages)\u001b[0m\u001b[33m\n",
      "\u001b[0m\u001b[33mWARNING: Ignoring invalid distribution ~etuptools (/insomnia001/shared/apps/anaconda/2023.09/lib/python3.11/site-packages)\u001b[0m\u001b[33m\n",
      "\u001b[0m\u001b[33mWARNING: Ignoring invalid distribution ~rapt (/insomnia001/shared/apps/anaconda/2023.09/lib/python3.11/site-packages)\u001b[0m\u001b[33m\n",
      "\u001b[0m"
     ]
    }
   ],
   "source": []
  },
  {
   "cell_type": "code",
   "execution_count": 1,
   "id": "bf3c4bf3-08c5-4a38-b5bb-7a03654e4bbd",
   "metadata": {},
   "outputs": [],
   "source": [
    "import surfa"
   ]
  },
  {
   "cell_type": "code",
   "execution_count": null,
   "id": "53e68867-2d63-48b8-8cdb-8fdcec987990",
   "metadata": {},
   "outputs": [],
   "source": []
  }
 ],
 "metadata": {
  "kernelspec": {
   "display_name": "Python 3 (ipykernel)",
   "language": "python",
   "name": "python3"
  },
  "language_info": {
   "codemirror_mode": {
    "name": "ipython",
    "version": 3
   },
   "file_extension": ".py",
   "mimetype": "text/x-python",
   "name": "python",
   "nbconvert_exporter": "python",
   "pygments_lexer": "ipython3",
   "version": "3.11.9"
  }
 },
 "nbformat": 4,
 "nbformat_minor": 5
}
