{
 "cells": [
  {
   "cell_type": "code",
   "execution_count": 1,
   "id": "136d75ee-b415-45f5-a8e6-dc325d528c48",
   "metadata": {},
   "outputs": [],
   "source": [
    "import scipy.io\n",
    "import nibabel as nib\n",
    "import numpy as np"
   ]
  },
  {
   "cell_type": "code",
   "execution_count": 2,
   "id": "01ae701f-f2c3-4fc6-b57d-3614be60bc1a",
   "metadata": {},
   "outputs": [
    {
     "name": "stdin",
     "output_type": "stream",
     "text": [
      "Please enter the subject ID:  MIMS_HC_036\n"
     ]
    }
   ],
   "source": [
    "subject_id = input(\"Please enter the subject ID: \")\n",
    "\n",
    "#MIMS_HC_036"
   ]
  },
  {
   "cell_type": "code",
   "execution_count": 3,
   "id": "25f7707e-d7ee-4886-89c4-142fc5dacf91",
   "metadata": {},
   "outputs": [],
   "source": [
    "mat_data = scipy.io.loadmat(f'/Users/teahserani/Desktop/Gyri_sulci/Subjects/{subject_id}/Mu.mat') \n",
    "t2stack = nib.load(f'/Users/teahserani/Desktop/Gyri_sulci/Subjects/{subject_id}/t2stack.nii')\n",
    "\n",
    "\n",
    "image_data = mat_data['Mu']\n",
    "image_data = np.flip(np.flip(np.transpose(image_data, (1, 0, 2)), axis=0), axis=1)\n",
    "image_data[np.isnan(image_data)] = 0\n",
    "\n",
    "\n",
    "#t1 = nib.load('/Users/teahserani/Desktop/Gyri_sulci/FreeSurferOutputs/366_53yrOld_edited/mri/brain.nii')\n",
    "\n",
    "mu_nifti = nib.Nifti1Image(image_data, affine=t2stack.affine)\n",
    "#mu_nifti = nib.Nifti1Image(image_data, affine=t1.affine)\n",
    "\n",
    "for ext in t2stack.header.extensions:\n",
    "    mu_nifti.header.extensions.append(ext)\n",
    "    \n",
    "# Save the image as a .nii file\n",
    "nib.save(mu_nifti, f'/Users/teahserani/Desktop/Gyri_sulci/SG_Outputs/{subject_id}_gy-sulc_Output/Mu.nii')"
   ]
  },
  {
   "cell_type": "code",
   "execution_count": null,
   "id": "65e4d311-2817-4eb4-82b5-06a8511e4261",
   "metadata": {},
   "outputs": [],
   "source": []
  }
 ],
 "metadata": {
  "kernelspec": {
   "display_name": "Python 3 (ipykernel)",
   "language": "python",
   "name": "python3"
  },
  "language_info": {
   "codemirror_mode": {
    "name": "ipython",
    "version": 3
   },
   "file_extension": ".py",
   "mimetype": "text/x-python",
   "name": "python",
   "nbconvert_exporter": "python",
   "pygments_lexer": "ipython3",
   "version": "3.12.7"
  }
 },
 "nbformat": 4,
 "nbformat_minor": 5
}
